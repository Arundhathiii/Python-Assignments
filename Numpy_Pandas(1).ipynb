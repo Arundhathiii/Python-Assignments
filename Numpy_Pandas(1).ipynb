{
 "cells": [
  {
   "cell_type": "markdown",
   "id": "92554636-eaad-46a0-b4b4-d01d8854fa70",
   "metadata": {},
   "source": [
    "## ASSIGNMENT 1(Numpy_Pandas)"
   ]
  },
  {
   "cell_type": "code",
   "execution_count": 9,
   "id": "ccbd4806-ab07-4190-8fc8-da805db3826a",
   "metadata": {},
   "outputs": [
    {
     "name": "stdout",
     "output_type": "stream",
     "text": [
      "[ 1  2  3  4  5  6  7  8  9 10]\n",
      "[[ 1  2  3  4  5]\n",
      " [ 6  7  8  9 10]]\n"
     ]
    }
   ],
   "source": [
    "# Exercise 1:  Create a numpy array containing the numbers from 1 to 10, and then reshape it to a 2x5 matrix. \n",
    "import numpy as np\n",
    "arr1 = np.arange(1,11)\n",
    "arr2 = arr1.reshape(2,5)\n",
    "print(arr1)\n",
    "print(arr2)"
   ]
  },
  {
   "cell_type": "code",
   "execution_count": 11,
   "id": "270c8afb-d517-4e74-aa44-b6abc24bfdf8",
   "metadata": {},
   "outputs": [
    {
     "name": "stdout",
     "output_type": "stream",
     "text": [
      "[ 6  7  8  9 10 11 12 13 14 15]\n"
     ]
    }
   ],
   "source": [
    "#Exercise 2: Create a numpy array containing the numbers from 1 to 20, and then extract the elements between the 5th and 15th index. \n",
    "arr = np.arange(1,21)\n",
    "print(arr[5:15])"
   ]
  },
  {
   "cell_type": "code",
   "execution_count": 13,
   "id": "a8f901e3-f3fd-48da-963f-2387ca1db574",
   "metadata": {},
   "outputs": [
    {
     "name": "stdout",
     "output_type": "stream",
     "text": [
      "apples     3\n",
      "bananas    2\n",
      "oranges    1\n",
      "dtype: int64\n",
      "apples     3\n",
      "bananas    2\n",
      "oranges    1\n",
      "pears      4\n",
      "dtype: int64\n"
     ]
    }
   ],
   "source": [
    "\"\"\"\n",
    "Exercise 3: Create a Pandas series with the following data: \n",
    "{'apples': 3, 'bananas': 2, 'oranges': 1}. Then, add a new item to the series with the key 'pears' and the value 4.\n",
    "\"\"\"\n",
    "import pandas as pd\n",
    "series = pd.Series({'apples' : 3,'bananas' : 2, 'oranges' : 1})\n",
    "print(series)\n",
    "series['pears'] = 4\n",
    "print(series)"
   ]
  },
  {
   "cell_type": "code",
   "execution_count": 15,
   "id": "145fe5c8-583f-4a73-8508-6ae03c21f837",
   "metadata": {},
   "outputs": [
    {
     "name": "stdout",
     "output_type": "stream",
     "text": [
      "    Name  Age Gender\n",
      "0   Manu   28      M\n",
      "1    Anu   24      F\n",
      "2   Kris   35      M\n",
      "3   Lina   32      F\n",
      "4  James   40      M\n",
      "5   Minu   34      F\n",
      "6    Sam   23      M\n",
      "7  Jolly   43      F\n",
      "8   Anna   21      F\n",
      "9   Moly   45      F\n"
     ]
    }
   ],
   "source": [
    "#Exercise 4: Create a dataframe with the following columns: name, age, and gender. The dataframe should have 10 rows of data.\n",
    "data = {'Name':['Manu','Anu','Kris','Lina','James','Minu','Sam','Jolly','Anna','Moly'], 'Age':[28,24,35,32,40,34,23,43,21,45],\n",
    "        'Gender' : ['M','F','M','F','M','F','M','F','F','F']}\n",
    "df = pd.DataFrame(data)\n",
    "print(df)"
   ]
  },
  {
   "cell_type": "code",
   "execution_count": 17,
   "id": "55337cf3-dbf5-4eee-93c1-fd1c6eed6a56",
   "metadata": {},
   "outputs": [
    {
     "name": "stdout",
     "output_type": "stream",
     "text": [
      "    Name  Age Gender  Occupation\n",
      "0   Manu   28      M  Programmer\n",
      "1    Anu   24      F     Analyst\n",
      "2   Kris   35      M     Manager\n",
      "3   Lina   32      F  Programmer\n",
      "4  James   40      M     Analyst\n",
      "5   Minu   34      F     Manager\n",
      "6    Sam   23      M  Programmer\n",
      "7  Jolly   43      F     Analyst\n",
      "8   Anna   21      F     Manager\n",
      "9   Moly   45      F  Programmer\n"
     ]
    }
   ],
   "source": [
    "\"\"\"\n",
    "Exercise 5: Add a new column to the data frame created in question 1, called occupation. \n",
    "The values for this column should be Programmer, Manager, and Analyst, corresponding to the rows in the dataframe.\n",
    "\"\"\"\n",
    "df['Occupation'] = ['Programmer','Analyst','Manager','Programmer','Analyst','Manager','Programmer','Analyst','Manager','Programmer']\n",
    "print(df)"
   ]
  },
  {
   "cell_type": "code",
   "execution_count": 25,
   "id": "9ea82c16-5134-4416-b489-88c32db03baa",
   "metadata": {},
   "outputs": [
    {
     "name": "stdout",
     "output_type": "stream",
     "text": [
      "    Name  Age Gender  Occupation\n",
      "2   Kris   35      M     Manager\n",
      "3   Lina   32      F  Programmer\n",
      "4  James   40      M     Analyst\n",
      "5   Minu   34      F     Manager\n",
      "7  Jolly   43      F     Analyst\n",
      "9   Moly   45      F  Programmer\n"
     ]
    }
   ],
   "source": [
    "##Exercise 6: Select the rows of the dataframe where the age is greater than or equal to 30. \n",
    "print(df[df['Age'] >= 30])"
   ]
  },
  {
   "cell_type": "code",
   "execution_count": 23,
   "id": "4cc85e9c-5103-4f89-8503-a27b597d8bf3",
   "metadata": {},
   "outputs": [
    {
     "name": "stdout",
     "output_type": "stream",
     "text": [
      "    Name  Age Gender  Occupation\n",
      "0   Manu   28      M  Programmer\n",
      "1    Anu   24      F     Analyst\n",
      "2   Kris   35      M     Manager\n",
      "3   Lina   32      F  Programmer\n",
      "4  James   40      M     Analyst\n",
      "5   Minu   34      F     Manager\n",
      "6    Sam   23      M  Programmer\n",
      "7  Jolly   43      F     Analyst\n",
      "8   Anna   21      F     Manager\n",
      "9   Moly   45      F  Programmer\n"
     ]
    }
   ],
   "source": [
    "#Exercise 7: Convert this dataframe to a csv file and read that csv file, finally display the contents.\n",
    "df.to_csv('data.csv' , index=False)\n",
    "df_read = pd.read_csv('data.csv')\n",
    "print(df_read)"
   ]
  }
 ],
 "metadata": {
  "kernelspec": {
   "display_name": "Python 3 (ipykernel)",
   "language": "python",
   "name": "python3"
  },
  "language_info": {
   "codemirror_mode": {
    "name": "ipython",
    "version": 3
   },
   "file_extension": ".py",
   "mimetype": "text/x-python",
   "name": "python",
   "nbconvert_exporter": "python",
   "pygments_lexer": "ipython3",
   "version": "3.12.4"
  }
 },
 "nbformat": 4,
 "nbformat_minor": 5
}
